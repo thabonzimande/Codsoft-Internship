{
 "cells": [
  {
   "cell_type": "code",
   "execution_count": 1,
   "id": "a373647e",
   "metadata": {
    "ExecuteTime": {
     "end_time": "2023-09-01T11:40:18.160992400Z",
     "start_time": "2023-09-01T11:40:18.088968Z"
    },
    "execution": {
     "iopub.execute_input": "2023-09-01T18:59:58.273653Z",
     "iopub.status.busy": "2023-09-01T18:59:58.273198Z",
     "iopub.status.idle": "2023-09-01T18:59:58.786437Z",
     "shell.execute_reply": "2023-09-01T18:59:58.784629Z"
    },
    "papermill": {
     "duration": 0.530716,
     "end_time": "2023-09-01T18:59:58.789562",
     "exception": false,
     "start_time": "2023-09-01T18:59:58.258846",
     "status": "completed"
    },
    "tags": []
   },
   "outputs": [],
   "source": [
    "import pandas as pd\n",
    "import numpy as np"
   ]
  },
  {
   "cell_type": "code",
   "execution_count": 2,
   "id": "f92072ac",
   "metadata": {
    "ExecuteTime": {
     "end_time": "2023-09-01T11:40:18.235967400Z",
     "start_time": "2023-09-01T11:40:18.101968200Z"
    },
    "execution": {
     "iopub.execute_input": "2023-09-01T18:59:58.815483Z",
     "iopub.status.busy": "2023-09-01T18:59:58.814797Z",
     "iopub.status.idle": "2023-09-01T18:59:58.882521Z",
     "shell.execute_reply": "2023-09-01T18:59:58.880820Z"
    },
    "jupyter": {
     "outputs_hidden": false
    },
    "papermill": {
     "duration": 0.084962,
     "end_time": "2023-09-01T18:59:58.885989",
     "exception": false,
     "start_time": "2023-09-01T18:59:58.801027",
     "status": "completed"
    },
    "tags": []
   },
   "outputs": [
    {
     "data": {
      "text/html": [
       "<div>\n",
       "<style scoped>\n",
       "    .dataframe tbody tr th:only-of-type {\n",
       "        vertical-align: middle;\n",
       "    }\n",
       "\n",
       "    .dataframe tbody tr th {\n",
       "        vertical-align: top;\n",
       "    }\n",
       "\n",
       "    .dataframe thead th {\n",
       "        text-align: right;\n",
       "    }\n",
       "</style>\n",
       "<table border=\"1\" class=\"dataframe\">\n",
       "  <thead>\n",
       "    <tr style=\"text-align: right;\">\n",
       "      <th></th>\n",
       "      <th>PassengerId</th>\n",
       "      <th>Survived</th>\n",
       "      <th>Pclass</th>\n",
       "      <th>Name</th>\n",
       "      <th>Sex</th>\n",
       "      <th>Age</th>\n",
       "      <th>SibSp</th>\n",
       "      <th>Parch</th>\n",
       "      <th>Ticket</th>\n",
       "      <th>Fare</th>\n",
       "      <th>Cabin</th>\n",
       "      <th>Embarked</th>\n",
       "    </tr>\n",
       "  </thead>\n",
       "  <tbody>\n",
       "    <tr>\n",
       "      <th>0</th>\n",
       "      <td>1</td>\n",
       "      <td>0</td>\n",
       "      <td>3</td>\n",
       "      <td>Braund, Mr. Owen Harris</td>\n",
       "      <td>male</td>\n",
       "      <td>22.0</td>\n",
       "      <td>1</td>\n",
       "      <td>0</td>\n",
       "      <td>A/5 21171</td>\n",
       "      <td>7.2500</td>\n",
       "      <td>NaN</td>\n",
       "      <td>S</td>\n",
       "    </tr>\n",
       "    <tr>\n",
       "      <th>1</th>\n",
       "      <td>2</td>\n",
       "      <td>1</td>\n",
       "      <td>1</td>\n",
       "      <td>Cumings, Mrs. John Bradley (Florence Briggs Th...</td>\n",
       "      <td>female</td>\n",
       "      <td>38.0</td>\n",
       "      <td>1</td>\n",
       "      <td>0</td>\n",
       "      <td>PC 17599</td>\n",
       "      <td>71.2833</td>\n",
       "      <td>C85</td>\n",
       "      <td>C</td>\n",
       "    </tr>\n",
       "    <tr>\n",
       "      <th>2</th>\n",
       "      <td>3</td>\n",
       "      <td>1</td>\n",
       "      <td>3</td>\n",
       "      <td>Heikkinen, Miss. Laina</td>\n",
       "      <td>female</td>\n",
       "      <td>26.0</td>\n",
       "      <td>0</td>\n",
       "      <td>0</td>\n",
       "      <td>STON/O2. 3101282</td>\n",
       "      <td>7.9250</td>\n",
       "      <td>NaN</td>\n",
       "      <td>S</td>\n",
       "    </tr>\n",
       "    <tr>\n",
       "      <th>3</th>\n",
       "      <td>4</td>\n",
       "      <td>1</td>\n",
       "      <td>1</td>\n",
       "      <td>Futrelle, Mrs. Jacques Heath (Lily May Peel)</td>\n",
       "      <td>female</td>\n",
       "      <td>35.0</td>\n",
       "      <td>1</td>\n",
       "      <td>0</td>\n",
       "      <td>113803</td>\n",
       "      <td>53.1000</td>\n",
       "      <td>C123</td>\n",
       "      <td>S</td>\n",
       "    </tr>\n",
       "    <tr>\n",
       "      <th>4</th>\n",
       "      <td>5</td>\n",
       "      <td>0</td>\n",
       "      <td>3</td>\n",
       "      <td>Allen, Mr. William Henry</td>\n",
       "      <td>male</td>\n",
       "      <td>35.0</td>\n",
       "      <td>0</td>\n",
       "      <td>0</td>\n",
       "      <td>373450</td>\n",
       "      <td>8.0500</td>\n",
       "      <td>NaN</td>\n",
       "      <td>S</td>\n",
       "    </tr>\n",
       "  </tbody>\n",
       "</table>\n",
       "</div>"
      ],
      "text/plain": [
       "   PassengerId  Survived  Pclass  \\\n",
       "0            1         0       3   \n",
       "1            2         1       1   \n",
       "2            3         1       3   \n",
       "3            4         1       1   \n",
       "4            5         0       3   \n",
       "\n",
       "                                                Name     Sex   Age  SibSp  \\\n",
       "0                            Braund, Mr. Owen Harris    male  22.0      1   \n",
       "1  Cumings, Mrs. John Bradley (Florence Briggs Th...  female  38.0      1   \n",
       "2                             Heikkinen, Miss. Laina  female  26.0      0   \n",
       "3       Futrelle, Mrs. Jacques Heath (Lily May Peel)  female  35.0      1   \n",
       "4                           Allen, Mr. William Henry    male  35.0      0   \n",
       "\n",
       "   Parch            Ticket     Fare Cabin Embarked  \n",
       "0      0         A/5 21171   7.2500   NaN        S  \n",
       "1      0          PC 17599  71.2833   C85        C  \n",
       "2      0  STON/O2. 3101282   7.9250   NaN        S  \n",
       "3      0            113803  53.1000  C123        S  \n",
       "4      0            373450   8.0500   NaN        S  "
      ]
     },
     "execution_count": 2,
     "metadata": {},
     "output_type": "execute_result"
    }
   ],
   "source": [
    "df = pd.read_csv('Titanic-Dataset.csv')\n",
    "df.head()"
   ]
  },
  {
   "cell_type": "code",
   "execution_count": 6,
   "id": "231fc7cc",
   "metadata": {
    "ExecuteTime": {
     "end_time": "2023-09-01T11:40:18.254987100Z",
     "start_time": "2023-09-01T11:40:18.136994900Z"
    },
    "execution": {
     "iopub.execute_input": "2023-09-01T18:59:58.951448Z",
     "iopub.status.busy": "2023-09-01T18:59:58.950930Z",
     "iopub.status.idle": "2023-09-01T19:00:00.809931Z",
     "shell.execute_reply": "2023-09-01T19:00:00.808244Z"
    },
    "jupyter": {
     "outputs_hidden": false
    },
    "papermill": {
     "duration": 1.876912,
     "end_time": "2023-09-01T19:00:00.813303",
     "exception": false,
     "start_time": "2023-09-01T18:59:58.936391",
     "status": "completed"
    },
    "tags": []
   },
   "outputs": [
    {
     "name": "stderr",
     "output_type": "stream",
     "text": [
      "C:\\Users\\PSCadmin\\anaconda3\\lib\\site-packages\\scipy\\__init__.py:155: UserWarning: A NumPy version >=1.18.5 and <1.25.0 is required for this version of SciPy (detected version 1.26.3\n",
      "  warnings.warn(f\"A NumPy version >={np_minversion} and <{np_maxversion}\"\n"
     ]
    }
   ],
   "source": [
    "from sklearn.model_selection import train_test_split\n",
    "\n",
    "X = df.drop('Survived', axis=1)\n",
    "y = df['Survived']\n",
    "\n",
    "X_train, X_test, y_train, y_test = train_test_split(X, y, test_size=0.2, random_state=42)"
   ]
  },
  {
   "cell_type": "code",
   "execution_count": 7,
   "id": "b17550e4",
   "metadata": {
    "ExecuteTime": {
     "end_time": "2023-09-01T11:40:18.254987100Z",
     "start_time": "2023-09-01T11:40:18.148992100Z"
    },
    "execution": {
     "iopub.execute_input": "2023-09-01T19:00:00.873806Z",
     "iopub.status.busy": "2023-09-01T19:00:00.873280Z",
     "iopub.status.idle": "2023-09-01T19:00:00.880007Z",
     "shell.execute_reply": "2023-09-01T19:00:00.878733Z"
    },
    "jupyter": {
     "outputs_hidden": false
    },
    "papermill": {
     "duration": 0.028336,
     "end_time": "2023-09-01T19:00:00.882763",
     "exception": false,
     "start_time": "2023-09-01T19:00:00.854427",
     "status": "completed"
    },
    "tags": []
   },
   "outputs": [],
   "source": [
    "df_copy = X_train.copy()"
   ]
  },
  {
   "cell_type": "code",
   "execution_count": 8,
   "id": "9e0ef572",
   "metadata": {
    "ExecuteTime": {
     "end_time": "2023-09-01T11:40:18.255989200Z",
     "start_time": "2023-09-01T11:40:18.168968100Z"
    },
    "execution": {
     "iopub.execute_input": "2023-09-01T19:00:00.911461Z",
     "iopub.status.busy": "2023-09-01T19:00:00.910985Z",
     "iopub.status.idle": "2023-09-01T19:00:00.943741Z",
     "shell.execute_reply": "2023-09-01T19:00:00.942081Z"
    },
    "jupyter": {
     "outputs_hidden": false
    },
    "papermill": {
     "duration": 0.051086,
     "end_time": "2023-09-01T19:00:00.947017",
     "exception": false,
     "start_time": "2023-09-01T19:00:00.895931",
     "status": "completed"
    },
    "tags": []
   },
   "outputs": [
    {
     "name": "stdout",
     "output_type": "stream",
     "text": [
      "<class 'pandas.core.frame.DataFrame'>\n",
      "Int64Index: 712 entries, 331 to 102\n",
      "Data columns (total 11 columns):\n",
      " #   Column       Non-Null Count  Dtype  \n",
      "---  ------       --------------  -----  \n",
      " 0   PassengerId  712 non-null    int64  \n",
      " 1   Pclass       712 non-null    int64  \n",
      " 2   Name         712 non-null    object \n",
      " 3   Sex          712 non-null    object \n",
      " 4   Age          572 non-null    float64\n",
      " 5   SibSp        712 non-null    int64  \n",
      " 6   Parch        712 non-null    int64  \n",
      " 7   Ticket       712 non-null    object \n",
      " 8   Fare         712 non-null    float64\n",
      " 9   Cabin        159 non-null    object \n",
      " 10  Embarked     710 non-null    object \n",
      "dtypes: float64(2), int64(4), object(5)\n",
      "memory usage: 66.8+ KB\n"
     ]
    }
   ],
   "source": [
    "df_copy.info()"
   ]
  },
  {
   "cell_type": "code",
   "execution_count": 9,
   "id": "1f2c9e3f",
   "metadata": {
    "ExecuteTime": {
     "end_time": "2023-09-01T11:40:18.285964200Z",
     "start_time": "2023-09-01T11:40:18.179967100Z"
    },
    "execution": {
     "iopub.execute_input": "2023-09-01T19:00:01.002971Z",
     "iopub.status.busy": "2023-09-01T19:00:01.002505Z",
     "iopub.status.idle": "2023-09-01T19:00:01.041937Z",
     "shell.execute_reply": "2023-09-01T19:00:01.040569Z"
    },
    "jupyter": {
     "outputs_hidden": false
    },
    "papermill": {
     "duration": 0.057882,
     "end_time": "2023-09-01T19:00:01.045097",
     "exception": false,
     "start_time": "2023-09-01T19:00:00.987215",
     "status": "completed"
    },
    "tags": []
   },
   "outputs": [
    {
     "data": {
      "text/html": [
       "<div>\n",
       "<style scoped>\n",
       "    .dataframe tbody tr th:only-of-type {\n",
       "        vertical-align: middle;\n",
       "    }\n",
       "\n",
       "    .dataframe tbody tr th {\n",
       "        vertical-align: top;\n",
       "    }\n",
       "\n",
       "    .dataframe thead th {\n",
       "        text-align: right;\n",
       "    }\n",
       "</style>\n",
       "<table border=\"1\" class=\"dataframe\">\n",
       "  <thead>\n",
       "    <tr style=\"text-align: right;\">\n",
       "      <th></th>\n",
       "      <th>PassengerId</th>\n",
       "      <th>Pclass</th>\n",
       "      <th>Age</th>\n",
       "      <th>SibSp</th>\n",
       "      <th>Parch</th>\n",
       "      <th>Fare</th>\n",
       "    </tr>\n",
       "  </thead>\n",
       "  <tbody>\n",
       "    <tr>\n",
       "      <th>count</th>\n",
       "      <td>712.000000</td>\n",
       "      <td>712.000000</td>\n",
       "      <td>572.000000</td>\n",
       "      <td>712.000000</td>\n",
       "      <td>712.000000</td>\n",
       "      <td>712.000000</td>\n",
       "    </tr>\n",
       "    <tr>\n",
       "      <th>mean</th>\n",
       "      <td>448.234551</td>\n",
       "      <td>2.330056</td>\n",
       "      <td>29.498846</td>\n",
       "      <td>0.553371</td>\n",
       "      <td>0.379213</td>\n",
       "      <td>32.586276</td>\n",
       "    </tr>\n",
       "    <tr>\n",
       "      <th>std</th>\n",
       "      <td>256.731423</td>\n",
       "      <td>0.824584</td>\n",
       "      <td>14.500059</td>\n",
       "      <td>1.176404</td>\n",
       "      <td>0.791669</td>\n",
       "      <td>51.969529</td>\n",
       "    </tr>\n",
       "    <tr>\n",
       "      <th>min</th>\n",
       "      <td>1.000000</td>\n",
       "      <td>1.000000</td>\n",
       "      <td>0.420000</td>\n",
       "      <td>0.000000</td>\n",
       "      <td>0.000000</td>\n",
       "      <td>0.000000</td>\n",
       "    </tr>\n",
       "    <tr>\n",
       "      <th>25%</th>\n",
       "      <td>224.750000</td>\n",
       "      <td>2.000000</td>\n",
       "      <td>21.000000</td>\n",
       "      <td>0.000000</td>\n",
       "      <td>0.000000</td>\n",
       "      <td>7.925000</td>\n",
       "    </tr>\n",
       "    <tr>\n",
       "      <th>50%</th>\n",
       "      <td>453.500000</td>\n",
       "      <td>3.000000</td>\n",
       "      <td>28.000000</td>\n",
       "      <td>0.000000</td>\n",
       "      <td>0.000000</td>\n",
       "      <td>14.454200</td>\n",
       "    </tr>\n",
       "    <tr>\n",
       "      <th>75%</th>\n",
       "      <td>673.500000</td>\n",
       "      <td>3.000000</td>\n",
       "      <td>38.000000</td>\n",
       "      <td>1.000000</td>\n",
       "      <td>0.000000</td>\n",
       "      <td>30.500000</td>\n",
       "    </tr>\n",
       "    <tr>\n",
       "      <th>max</th>\n",
       "      <td>891.000000</td>\n",
       "      <td>3.000000</td>\n",
       "      <td>80.000000</td>\n",
       "      <td>8.000000</td>\n",
       "      <td>6.000000</td>\n",
       "      <td>512.329200</td>\n",
       "    </tr>\n",
       "  </tbody>\n",
       "</table>\n",
       "</div>"
      ],
      "text/plain": [
       "       PassengerId      Pclass         Age       SibSp       Parch        Fare\n",
       "count   712.000000  712.000000  572.000000  712.000000  712.000000  712.000000\n",
       "mean    448.234551    2.330056   29.498846    0.553371    0.379213   32.586276\n",
       "std     256.731423    0.824584   14.500059    1.176404    0.791669   51.969529\n",
       "min       1.000000    1.000000    0.420000    0.000000    0.000000    0.000000\n",
       "25%     224.750000    2.000000   21.000000    0.000000    0.000000    7.925000\n",
       "50%     453.500000    3.000000   28.000000    0.000000    0.000000   14.454200\n",
       "75%     673.500000    3.000000   38.000000    1.000000    0.000000   30.500000\n",
       "max     891.000000    3.000000   80.000000    8.000000    6.000000  512.329200"
      ]
     },
     "execution_count": 9,
     "metadata": {},
     "output_type": "execute_result"
    }
   ],
   "source": [
    "df_copy.describe()"
   ]
  },
  {
   "cell_type": "code",
   "execution_count": 10,
   "id": "89fb98ec",
   "metadata": {
    "ExecuteTime": {
     "end_time": "2023-09-01T11:40:18.286964500Z",
     "start_time": "2023-09-01T11:40:18.212965600Z"
    },
    "execution": {
     "iopub.execute_input": "2023-09-01T19:00:01.074198Z",
     "iopub.status.busy": "2023-09-01T19:00:01.073692Z",
     "iopub.status.idle": "2023-09-01T19:00:01.085299Z",
     "shell.execute_reply": "2023-09-01T19:00:01.083432Z"
    },
    "jupyter": {
     "outputs_hidden": false
    },
    "papermill": {
     "duration": 0.029837,
     "end_time": "2023-09-01T19:00:01.088162",
     "exception": false,
     "start_time": "2023-09-01T19:00:01.058325",
     "status": "completed"
    },
    "tags": []
   },
   "outputs": [
    {
     "data": {
      "text/plain": [
       "male      467\n",
       "female    245\n",
       "Name: Sex, dtype: int64"
      ]
     },
     "execution_count": 10,
     "metadata": {},
     "output_type": "execute_result"
    }
   ],
   "source": [
    "df_copy['Sex'].value_counts()"
   ]
  },
  {
   "cell_type": "code",
   "execution_count": 11,
   "id": "7c4ecda1",
   "metadata": {
    "ExecuteTime": {
     "end_time": "2023-09-01T11:40:18.286964500Z",
     "start_time": "2023-09-01T11:40:18.228962600Z"
    },
    "execution": {
     "iopub.execute_input": "2023-09-01T19:00:01.117419Z",
     "iopub.status.busy": "2023-09-01T19:00:01.116929Z",
     "iopub.status.idle": "2023-09-01T19:00:01.130255Z",
     "shell.execute_reply": "2023-09-01T19:00:01.127708Z"
    },
    "jupyter": {
     "outputs_hidden": false
    },
    "papermill": {
     "duration": 0.032589,
     "end_time": "2023-09-01T19:00:01.133837",
     "exception": false,
     "start_time": "2023-09-01T19:00:01.101248",
     "status": "completed"
    },
    "tags": []
   },
   "outputs": [
    {
     "data": {
      "text/plain": [
       "S    525\n",
       "C    125\n",
       "Q     60\n",
       "Name: Embarked, dtype: int64"
      ]
     },
     "execution_count": 11,
     "metadata": {},
     "output_type": "execute_result"
    }
   ],
   "source": [
    "df_copy['Embarked'].value_counts()"
   ]
  },
  {
   "cell_type": "markdown",
   "id": "5bff0704",
   "metadata": {
    "papermill": {
     "duration": 0.013507,
     "end_time": "2023-09-01T19:00:01.161020",
     "exception": false,
     "start_time": "2023-09-01T19:00:01.147513",
     "status": "completed"
    },
    "tags": []
   },
   "source": [
    "#### Notes\n",
    "\n",
    "Gender of each passenger and boarding group is not well represented. Possibility of stratified sampling.\n",
    "Age has decimal values. Convert to whole number.\n",
    "Name and Ticket columns are not needed for training. Remove columns."
   ]
  },
  {
   "cell_type": "markdown",
   "id": "3e16da33",
   "metadata": {
    "papermill": {
     "duration": 0.012628,
     "end_time": "2023-09-01T19:00:01.187102",
     "exception": false,
     "start_time": "2023-09-01T19:00:01.174474",
     "status": "completed"
    },
    "tags": []
   },
   "source": [
    "### Data cleaning"
   ]
  },
  {
   "cell_type": "code",
   "execution_count": 12,
   "id": "d2b5e136",
   "metadata": {
    "ExecuteTime": {
     "end_time": "2023-09-01T12:00:17.839702800Z",
     "start_time": "2023-09-01T12:00:17.815521Z"
    },
    "execution": {
     "iopub.execute_input": "2023-09-01T19:00:01.215488Z",
     "iopub.status.busy": "2023-09-01T19:00:01.215018Z",
     "iopub.status.idle": "2023-09-01T19:00:01.245177Z",
     "shell.execute_reply": "2023-09-01T19:00:01.243762Z"
    },
    "jupyter": {
     "outputs_hidden": false
    },
    "papermill": {
     "duration": 0.048232,
     "end_time": "2023-09-01T19:00:01.248292",
     "exception": false,
     "start_time": "2023-09-01T19:00:01.200060",
     "status": "completed"
    },
    "tags": []
   },
   "outputs": [],
   "source": [
    "from sklearn.base import BaseEstimator, TransformerMixin\n",
    "from sklearn.pipeline import Pipeline\n",
    "from sklearn.preprocessing import OrdinalEncoder\n",
    "\n",
    "# Transformer to fill in the `Age` column and convert it to an integer\n",
    "class FillAgeAndRound(BaseEstimator, TransformerMixin):\n",
    "    def fit(self, X, y=None):\n",
    "        self.median_age = X['Age'].median()\n",
    "        return self\n",
    "    \n",
    "    def transform(self, X, y=None):\n",
    "        X['Age'] = X['Age'].fillna(self.median_age).round().astype(int)\n",
    "        return X\n",
    "\n",
    "# Transformer to remove the `Cabin` column\n",
    "class DropCabin(BaseEstimator, TransformerMixin):\n",
    "    def fit(self, X, y=None):\n",
    "        return self\n",
    "    \n",
    "    def transform(self, X, y=None):\n",
    "        return X.drop('Cabin', axis=1)\n",
    "    \n",
    "# Transformer to remove the `Name` column\n",
    "class DropName(BaseEstimator, TransformerMixin):\n",
    "    def fit(self, X, y=None):\n",
    "        return self\n",
    "    \n",
    "    def transform(self, X, y=None):\n",
    "        return X.drop('Name', axis=1)\n",
    "    \n",
    "# Transformer to remove the `Ticket` column\n",
    "class DropTicket(BaseEstimator, TransformerMixin):\n",
    "    def fit(self, X, y=None):\n",
    "        return self\n",
    "    \n",
    "    def transform(self, X, y=None):\n",
    "        return X.drop('Ticket', axis=1)\n",
    "\n",
    "# Transformer to remove rows with NaN values in `Embarked`.\n",
    "class DropNanEmbarked(BaseEstimator, TransformerMixin):\n",
    "    def fit(self, X, y=None):\n",
    "        return self\n",
    "    \n",
    "    def transform(self, X, y=None):\n",
    "        X.dropna(subset=['Embarked'], inplace=True)\n",
    "        return X\n",
    "\n",
    "# Transformer to apply the `OrdinalEncoder`.\n",
    "class EncodeColumns(BaseEstimator, TransformerMixin):\n",
    "    def __init__(self, columns=None):\n",
    "        self.columns = columns\n",
    "        self.encoder = OrdinalEncoder()\n",
    "    \n",
    "    def fit(self, X, y=None):\n",
    "        self.encoder.fit(X[self.columns])\n",
    "        return self\n",
    "    \n",
    "    def transform(self, X, y=None):\n",
    "        X[self.columns] = self.encoder.transform(X[self.columns])\n",
    "        return X"
   ]
  },
  {
   "cell_type": "code",
   "execution_count": 16,
   "id": "231d1e65",
   "metadata": {
    "ExecuteTime": {
     "end_time": "2023-09-01T12:00:18.214664800Z",
     "start_time": "2023-09-01T12:00:18.200625500Z"
    },
    "execution": {
     "iopub.execute_input": "2023-09-01T19:00:01.278197Z",
     "iopub.status.busy": "2023-09-01T19:00:01.277626Z",
     "iopub.status.idle": "2023-09-01T19:00:01.285724Z",
     "shell.execute_reply": "2023-09-01T19:00:01.284066Z"
    },
    "jupyter": {
     "outputs_hidden": false
    },
    "papermill": {
     "duration": 0.026363,
     "end_time": "2023-09-01T19:00:01.288477",
     "exception": false,
     "start_time": "2023-09-01T19:00:01.262114",
     "status": "completed"
    },
    "tags": []
   },
   "outputs": [],
   "source": [
    "preprocessing_pipeline = Pipeline([\n",
    "    ('fill_age', FillAgeAndRound()),\n",
    "    ('drop_cabin', DropCabin()),\n",
    "    ('drop_name', DropName()),\n",
    "    ('drop_ticket', DropTicket()),\n",
    "    ('drop_nan_embarked', DropNanEmbarked()),\n",
    "    ('encode_columns', EncodeColumns(columns=['Sex', 'Embarked']))\n",
    "])"
   ]
  },
  {
   "cell_type": "code",
   "execution_count": 17,
   "id": "c1333813",
   "metadata": {
    "ExecuteTime": {
     "end_time": "2023-09-01T12:04:37.183740600Z",
     "start_time": "2023-09-01T12:04:37.147598Z"
    },
    "execution": {
     "iopub.execute_input": "2023-09-01T19:00:01.316981Z",
     "iopub.status.busy": "2023-09-01T19:00:01.316578Z",
     "iopub.status.idle": "2023-09-01T19:00:01.345810Z",
     "shell.execute_reply": "2023-09-01T19:00:01.344315Z"
    },
    "jupyter": {
     "outputs_hidden": false
    },
    "papermill": {
     "duration": 0.047101,
     "end_time": "2023-09-01T19:00:01.348746",
     "exception": false,
     "start_time": "2023-09-01T19:00:01.301645",
     "status": "completed"
    },
    "tags": []
   },
   "outputs": [],
   "source": [
    "train_transformed = preprocessing_pipeline.fit_transform(X_train.copy())\n",
    "test_transformed = preprocessing_pipeline.transform(X_test.copy())\n",
    "\n",
    "y_train = y_train[train_transformed.index]\n",
    "y_test = y_test[test_transformed.index]"
   ]
  },
  {
   "cell_type": "code",
   "execution_count": 18,
   "id": "83eb03be",
   "metadata": {
    "ExecuteTime": {
     "end_time": "2023-09-01T12:04:37.701956100Z",
     "start_time": "2023-09-01T12:04:37.659434300Z"
    },
    "execution": {
     "iopub.execute_input": "2023-09-01T19:00:01.377271Z",
     "iopub.status.busy": "2023-09-01T19:00:01.376845Z",
     "iopub.status.idle": "2023-09-01T19:00:01.394545Z",
     "shell.execute_reply": "2023-09-01T19:00:01.392780Z"
    },
    "jupyter": {
     "outputs_hidden": false
    },
    "papermill": {
     "duration": 0.035085,
     "end_time": "2023-09-01T19:00:01.397160",
     "exception": false,
     "start_time": "2023-09-01T19:00:01.362075",
     "status": "completed"
    },
    "tags": []
   },
   "outputs": [
    {
     "data": {
      "text/html": [
       "<div>\n",
       "<style scoped>\n",
       "    .dataframe tbody tr th:only-of-type {\n",
       "        vertical-align: middle;\n",
       "    }\n",
       "\n",
       "    .dataframe tbody tr th {\n",
       "        vertical-align: top;\n",
       "    }\n",
       "\n",
       "    .dataframe thead th {\n",
       "        text-align: right;\n",
       "    }\n",
       "</style>\n",
       "<table border=\"1\" class=\"dataframe\">\n",
       "  <thead>\n",
       "    <tr style=\"text-align: right;\">\n",
       "      <th></th>\n",
       "      <th>PassengerId</th>\n",
       "      <th>Pclass</th>\n",
       "      <th>Sex</th>\n",
       "      <th>Age</th>\n",
       "      <th>SibSp</th>\n",
       "      <th>Parch</th>\n",
       "      <th>Fare</th>\n",
       "      <th>Embarked</th>\n",
       "    </tr>\n",
       "  </thead>\n",
       "  <tbody>\n",
       "    <tr>\n",
       "      <th>331</th>\n",
       "      <td>332</td>\n",
       "      <td>1</td>\n",
       "      <td>1.0</td>\n",
       "      <td>46</td>\n",
       "      <td>0</td>\n",
       "      <td>0</td>\n",
       "      <td>28.5000</td>\n",
       "      <td>2.0</td>\n",
       "    </tr>\n",
       "    <tr>\n",
       "      <th>733</th>\n",
       "      <td>734</td>\n",
       "      <td>2</td>\n",
       "      <td>1.0</td>\n",
       "      <td>23</td>\n",
       "      <td>0</td>\n",
       "      <td>0</td>\n",
       "      <td>13.0000</td>\n",
       "      <td>2.0</td>\n",
       "    </tr>\n",
       "    <tr>\n",
       "      <th>382</th>\n",
       "      <td>383</td>\n",
       "      <td>3</td>\n",
       "      <td>1.0</td>\n",
       "      <td>32</td>\n",
       "      <td>0</td>\n",
       "      <td>0</td>\n",
       "      <td>7.9250</td>\n",
       "      <td>2.0</td>\n",
       "    </tr>\n",
       "    <tr>\n",
       "      <th>704</th>\n",
       "      <td>705</td>\n",
       "      <td>3</td>\n",
       "      <td>1.0</td>\n",
       "      <td>26</td>\n",
       "      <td>1</td>\n",
       "      <td>0</td>\n",
       "      <td>7.8542</td>\n",
       "      <td>2.0</td>\n",
       "    </tr>\n",
       "    <tr>\n",
       "      <th>813</th>\n",
       "      <td>814</td>\n",
       "      <td>3</td>\n",
       "      <td>0.0</td>\n",
       "      <td>6</td>\n",
       "      <td>4</td>\n",
       "      <td>2</td>\n",
       "      <td>31.2750</td>\n",
       "      <td>2.0</td>\n",
       "    </tr>\n",
       "  </tbody>\n",
       "</table>\n",
       "</div>"
      ],
      "text/plain": [
       "     PassengerId  Pclass  Sex  Age  SibSp  Parch     Fare  Embarked\n",
       "331          332       1  1.0   46      0      0  28.5000       2.0\n",
       "733          734       2  1.0   23      0      0  13.0000       2.0\n",
       "382          383       3  1.0   32      0      0   7.9250       2.0\n",
       "704          705       3  1.0   26      1      0   7.8542       2.0\n",
       "813          814       3  0.0    6      4      2  31.2750       2.0"
      ]
     },
     "execution_count": 18,
     "metadata": {},
     "output_type": "execute_result"
    }
   ],
   "source": [
    "train_transformed.head()"
   ]
  },
  {
   "cell_type": "markdown",
   "id": "56d07840",
   "metadata": {
    "papermill": {
     "duration": 0.013257,
     "end_time": "2023-09-01T19:00:01.424178",
     "exception": false,
     "start_time": "2023-09-01T19:00:01.410921",
     "status": "completed"
    },
    "tags": []
   },
   "source": [
    "### Model selection and training"
   ]
  },
  {
   "cell_type": "code",
   "execution_count": 19,
   "id": "bf9af73a",
   "metadata": {
    "ExecuteTime": {
     "end_time": "2023-09-01T12:07:11.537721600Z",
     "start_time": "2023-09-01T12:07:11.479606300Z"
    },
    "execution": {
     "iopub.execute_input": "2023-09-01T19:00:01.453748Z",
     "iopub.status.busy": "2023-09-01T19:00:01.453342Z",
     "iopub.status.idle": "2023-09-01T19:00:02.126316Z",
     "shell.execute_reply": "2023-09-01T19:00:02.124690Z"
    },
    "jupyter": {
     "outputs_hidden": false
    },
    "papermill": {
     "duration": 0.692401,
     "end_time": "2023-09-01T19:00:02.130237",
     "exception": false,
     "start_time": "2023-09-01T19:00:01.437836",
     "status": "completed"
    },
    "tags": []
   },
   "outputs": [],
   "source": [
    "from sklearn.linear_model import SGDClassifier\n",
    "from sklearn.neighbors import KNeighborsClassifier\n",
    "from sklearn.tree import DecisionTreeClassifier\n",
    "from sklearn.ensemble import RandomForestClassifier\n",
    "\n",
    "sgd_clf = SGDClassifier(random_state=42)\n",
    "knn_clf = KNeighborsClassifier()\n",
    "tree_clf = DecisionTreeClassifier(random_state=42)\n",
    "forest_clf = RandomForestClassifier(random_state=42)"
   ]
  },
  {
   "cell_type": "code",
   "execution_count": 20,
   "id": "e3fc1537",
   "metadata": {
    "ExecuteTime": {
     "end_time": "2023-09-01T12:11:00.215107100Z",
     "start_time": "2023-09-01T12:10:59.456071600Z"
    },
    "execution": {
     "iopub.execute_input": "2023-09-01T19:00:02.163136Z",
     "iopub.status.busy": "2023-09-01T19:00:02.162544Z",
     "iopub.status.idle": "2023-09-01T19:00:04.163296Z",
     "shell.execute_reply": "2023-09-01T19:00:04.161359Z"
    },
    "jupyter": {
     "outputs_hidden": false
    },
    "papermill": {
     "duration": 2.021035,
     "end_time": "2023-09-01T19:00:04.166374",
     "exception": false,
     "start_time": "2023-09-01T19:00:02.145339",
     "status": "completed"
    },
    "tags": []
   },
   "outputs": [
    {
     "name": "stdout",
     "output_type": "stream",
     "text": [
      "SGD:\n",
      "Accuracy: 0.45 (+/- 0.09)\n",
      "Precision: 0.36 (+/- 0.05)\n",
      "Recall: 0.77 (+/- 0.38)\n",
      "F1-score: 0.44 (+/- 0.20)\n",
      "\n",
      "KNN:\n",
      "Accuracy: 0.62 (+/- 0.03)\n",
      "Precision: 0.49 (+/- 0.07)\n",
      "Recall: 0.35 (+/- 0.06)\n",
      "F1-score: 0.41 (+/- 0.06)\n",
      "\n",
      "Decision Tree:\n",
      "Accuracy: 0.74 (+/- 0.02)\n",
      "Precision: 0.65 (+/- 0.03)\n",
      "Recall: 0.67 (+/- 0.05)\n",
      "F1-score: 0.66 (+/- 0.03)\n",
      "\n"
     ]
    },
    {
     "name": "stderr",
     "output_type": "stream",
     "text": [
      "C:\\Users\\PSCadmin\\anaconda3\\lib\\site-packages\\sklearn\\neighbors\\_classification.py:228: FutureWarning: Unlike other reduction functions (e.g. `skew`, `kurtosis`), the default behavior of `mode` typically preserves the axis it acts along. In SciPy 1.11.0, this behavior will change: the default value of `keepdims` will become False, the `axis` over which the statistic is taken will be eliminated, and the value None will no longer be accepted. Set `keepdims` to True or False to avoid this warning.\n",
      "  mode, _ = stats.mode(_y[neigh_ind, k], axis=1)\n",
      "C:\\Users\\PSCadmin\\anaconda3\\lib\\site-packages\\sklearn\\neighbors\\_classification.py:228: FutureWarning: Unlike other reduction functions (e.g. `skew`, `kurtosis`), the default behavior of `mode` typically preserves the axis it acts along. In SciPy 1.11.0, this behavior will change: the default value of `keepdims` will become False, the `axis` over which the statistic is taken will be eliminated, and the value None will no longer be accepted. Set `keepdims` to True or False to avoid this warning.\n",
      "  mode, _ = stats.mode(_y[neigh_ind, k], axis=1)\n",
      "C:\\Users\\PSCadmin\\anaconda3\\lib\\site-packages\\sklearn\\neighbors\\_classification.py:228: FutureWarning: Unlike other reduction functions (e.g. `skew`, `kurtosis`), the default behavior of `mode` typically preserves the axis it acts along. In SciPy 1.11.0, this behavior will change: the default value of `keepdims` will become False, the `axis` over which the statistic is taken will be eliminated, and the value None will no longer be accepted. Set `keepdims` to True or False to avoid this warning.\n",
      "  mode, _ = stats.mode(_y[neigh_ind, k], axis=1)\n",
      "C:\\Users\\PSCadmin\\anaconda3\\lib\\site-packages\\sklearn\\neighbors\\_classification.py:228: FutureWarning: Unlike other reduction functions (e.g. `skew`, `kurtosis`), the default behavior of `mode` typically preserves the axis it acts along. In SciPy 1.11.0, this behavior will change: the default value of `keepdims` will become False, the `axis` over which the statistic is taken will be eliminated, and the value None will no longer be accepted. Set `keepdims` to True or False to avoid this warning.\n",
      "  mode, _ = stats.mode(_y[neigh_ind, k], axis=1)\n",
      "C:\\Users\\PSCadmin\\anaconda3\\lib\\site-packages\\sklearn\\neighbors\\_classification.py:228: FutureWarning: Unlike other reduction functions (e.g. `skew`, `kurtosis`), the default behavior of `mode` typically preserves the axis it acts along. In SciPy 1.11.0, this behavior will change: the default value of `keepdims` will become False, the `axis` over which the statistic is taken will be eliminated, and the value None will no longer be accepted. Set `keepdims` to True or False to avoid this warning.\n",
      "  mode, _ = stats.mode(_y[neigh_ind, k], axis=1)\n"
     ]
    },
    {
     "name": "stdout",
     "output_type": "stream",
     "text": [
      "Random Forest:\n",
      "Accuracy: 0.81 (+/- 0.02)\n",
      "Precision: 0.80 (+/- 0.06)\n",
      "Recall: 0.68 (+/- 0.03)\n",
      "F1-score: 0.73 (+/- 0.02)\n",
      "\n"
     ]
    }
   ],
   "source": [
    "from sklearn.model_selection import cross_validate\n",
    "\n",
    "model_list = [sgd_clf, knn_clf, tree_clf, forest_clf]\n",
    "scoring_metrics = ['accuracy', 'precision', 'recall', 'f1']\n",
    "model_names = [\"SGD\", \"KNN\", \"Decision Tree\", \"Random Forest\"]\n",
    "\n",
    "for model, name in zip(model_list, model_names):\n",
    "    scores = cross_validate(model, train_transformed, y_train, cv=5, scoring=scoring_metrics)\n",
    "    print(f\"{name}:\\n\"\n",
    "          f\"Accuracy: {scores['test_accuracy'].mean():.2f} (+/- {scores['test_accuracy'].std():.2f})\\n\"\n",
    "          f\"Precision: {scores['test_precision'].mean():.2f} (+/- {scores['test_precision'].std():.2f})\\n\"\n",
    "          f\"Recall: {scores['test_recall'].mean():.2f} (+/- {scores['test_recall'].std():.2f})\\n\"\n",
    "          f\"F1-score: {scores['test_f1'].mean():.2f} (+/- {scores['test_f1'].std():.2f})\\n\")"
   ]
  },
  {
   "cell_type": "markdown",
   "id": "532eb509",
   "metadata": {
    "papermill": {
     "duration": 0.013729,
     "end_time": "2023-09-01T19:00:04.194839",
     "exception": false,
     "start_time": "2023-09-01T19:00:04.181110",
     "status": "completed"
    },
    "tags": []
   },
   "source": [
    "- The best performing model is the Random Forest model"
   ]
  },
  {
   "cell_type": "code",
   "execution_count": 21,
   "id": "a8ea26b5",
   "metadata": {
    "ExecuteTime": {
     "end_time": "2023-09-01T12:22:09.995717200Z",
     "start_time": "2023-09-01T12:17:30.029467900Z"
    },
    "execution": {
     "iopub.execute_input": "2023-09-01T19:00:04.226163Z",
     "iopub.status.busy": "2023-09-01T19:00:04.225298Z",
     "iopub.status.idle": "2023-09-01T19:10:15.699001Z",
     "shell.execute_reply": "2023-09-01T19:10:15.697493Z"
    },
    "jupyter": {
     "outputs_hidden": false
    },
    "papermill": {
     "duration": 611.506862,
     "end_time": "2023-09-01T19:10:15.715775",
     "exception": false,
     "start_time": "2023-09-01T19:00:04.208913",
     "status": "completed"
    },
    "tags": []
   },
   "outputs": [
    {
     "data": {
      "text/plain": [
       "GridSearchCV(cv=5, estimator=RandomForestClassifier(random_state=42),\n",
       "             param_grid={'bootstrap': [True, False],\n",
       "                         'max_depth': [None, 10, 20, 30, 40],\n",
       "                         'min_samples_leaf': [1, 2, 4],\n",
       "                         'min_samples_split': [2, 5, 10],\n",
       "                         'n_estimators': [10, 50, 100, 150, 200]},\n",
       "             return_train_score=True, scoring='accuracy')"
      ]
     },
     "execution_count": 21,
     "metadata": {},
     "output_type": "execute_result"
    }
   ],
   "source": [
    "from sklearn.model_selection import GridSearchCV\n",
    "\n",
    "param_grid = {\n",
    "    'n_estimators': [10, 50, 100, 150, 200],\n",
    "    'max_depth': [None, 10, 20, 30, 40],\n",
    "    'min_samples_split': [2, 5, 10],\n",
    "    'min_samples_leaf': [1, 2, 4],\n",
    "    'bootstrap': [True, False]\n",
    "}\n",
    "\n",
    "forest_clf = RandomForestClassifier(random_state=42)\n",
    "grid_search = GridSearchCV(forest_clf, param_grid, cv=5, scoring='accuracy', return_train_score=True)\n",
    "grid_search.fit(train_transformed, y_train)"
   ]
  },
  {
   "cell_type": "code",
   "execution_count": 22,
   "id": "fee5351d",
   "metadata": {
    "ExecuteTime": {
     "end_time": "2023-09-01T12:22:32.973328700Z",
     "start_time": "2023-09-01T12:22:32.946383200Z"
    },
    "execution": {
     "iopub.execute_input": "2023-09-01T19:10:15.823059Z",
     "iopub.status.busy": "2023-09-01T19:10:15.822635Z",
     "iopub.status.idle": "2023-09-01T19:10:15.829897Z",
     "shell.execute_reply": "2023-09-01T19:10:15.828348Z"
    },
    "jupyter": {
     "outputs_hidden": false
    },
    "papermill": {
     "duration": 0.102572,
     "end_time": "2023-09-01T19:10:15.833028",
     "exception": false,
     "start_time": "2023-09-01T19:10:15.730456",
     "status": "completed"
    },
    "tags": []
   },
   "outputs": [
    {
     "name": "stdout",
     "output_type": "stream",
     "text": [
      "RandomForestClassifier(max_depth=10, min_samples_leaf=4, n_estimators=10,\n",
      "                       random_state=42)\n"
     ]
    }
   ],
   "source": [
    "best_forest_clf = grid_search.best_estimator_\n",
    "print(best_forest_clf)"
   ]
  },
  {
   "cell_type": "code",
   "execution_count": 23,
   "id": "6f74a6a5",
   "metadata": {
    "ExecuteTime": {
     "end_time": "2023-09-01T12:23:35.360633300Z",
     "start_time": "2023-09-01T12:23:35.337695800Z"
    },
    "execution": {
     "iopub.execute_input": "2023-09-01T19:10:15.865286Z",
     "iopub.status.busy": "2023-09-01T19:10:15.863892Z",
     "iopub.status.idle": "2023-09-01T19:10:15.873467Z",
     "shell.execute_reply": "2023-09-01T19:10:15.872511Z"
    },
    "jupyter": {
     "outputs_hidden": false
    },
    "papermill": {
     "duration": 0.028134,
     "end_time": "2023-09-01T19:10:15.875862",
     "exception": false,
     "start_time": "2023-09-01T19:10:15.847728",
     "status": "completed"
    },
    "tags": []
   },
   "outputs": [],
   "source": [
    "y_pred = best_forest_clf.predict(test_transformed)"
   ]
  },
  {
   "cell_type": "code",
   "execution_count": 24,
   "id": "6e8f4f1f",
   "metadata": {
    "ExecuteTime": {
     "end_time": "2023-09-01T12:23:53.333117300Z",
     "start_time": "2023-09-01T12:23:53.285262200Z"
    },
    "execution": {
     "iopub.execute_input": "2023-09-01T19:10:15.908907Z",
     "iopub.status.busy": "2023-09-01T19:10:15.908181Z",
     "iopub.status.idle": "2023-09-01T19:10:15.923187Z",
     "shell.execute_reply": "2023-09-01T19:10:15.921890Z"
    },
    "jupyter": {
     "outputs_hidden": false
    },
    "papermill": {
     "duration": 0.034575,
     "end_time": "2023-09-01T19:10:15.926014",
     "exception": false,
     "start_time": "2023-09-01T19:10:15.891439",
     "status": "completed"
    },
    "tags": []
   },
   "outputs": [
    {
     "name": "stdout",
     "output_type": "stream",
     "text": [
      "Accuracy: 0.8044692737430168\n",
      "Precision: 0.8\n",
      "Recall: 0.7027027027027027\n",
      "F1 Score: 0.7482014388489208\n"
     ]
    }
   ],
   "source": [
    "from sklearn.metrics import accuracy_score, precision_score, recall_score, f1_score\n",
    "\n",
    "print(\"Accuracy:\", accuracy_score(y_test, y_pred))\n",
    "print(\"Precision:\", precision_score(y_test, y_pred))\n",
    "print(\"Recall:\", recall_score(y_test, y_pred))\n",
    "print(\"F1 Score:\", f1_score(y_test, y_pred))"
   ]
  },
  {
   "cell_type": "code",
   "execution_count": 27,
   "id": "68e1a2c9",
   "metadata": {
    "ExecuteTime": {
     "end_time": "2023-09-01T12:24:03.570960600Z",
     "start_time": "2023-09-01T12:24:02.987718200Z"
    },
    "execution": {
     "iopub.execute_input": "2023-09-01T19:10:15.959693Z",
     "iopub.status.busy": "2023-09-01T19:10:15.959261Z",
     "iopub.status.idle": "2023-09-01T19:10:16.967325Z",
     "shell.execute_reply": "2023-09-01T19:10:16.966110Z"
    },
    "jupyter": {
     "outputs_hidden": false
    },
    "papermill": {
     "duration": 1.027443,
     "end_time": "2023-09-01T19:10:16.969677",
     "exception": false,
     "start_time": "2023-09-01T19:10:15.942234",
     "status": "completed"
    },
    "tags": []
   },
   "outputs": [
    {
     "data": {
      "image/png": "[encoded data removed]",
      "text/plain": [
       "<Figure size 800x600 with 2 Axes>"
      ]
     },
     "metadata": {},
     "output_type": "display_data"
    }
   ],
   "source": [
    "from sklearn.metrics import confusion_matrix\n",
    "import seaborn as sns\n",
    "import matplotlib.pyplot as plt\n",
    "\n",
    "cm = confusion_matrix(y_test, y_pred)\n",
    "plt.figure(figsize=(8,6))\n",
    "sns.heatmap(cm, annot=True, fmt=\"d\", cmap=\"Greens\", xticklabels=['No Survival', 'Survival'], yticklabels=['No Survival', 'Survival'])\n",
    "plt.ylabel('Reality')\n",
    "plt.xlabel('Prediction')\n",
    "plt.show()"
   ]
  },
  {
   "cell_type": "code",
   "execution_count": null,
   "id": "a86f8b5b",
   "metadata": {
    "jupyter": {
     "outputs_hidden": false
    },
    "papermill": {
     "duration": 0.01515,
     "end_time": "2023-09-01T19:10:17.000498",
     "exception": false,
     "start_time": "2023-09-01T19:10:16.985348",
     "status": "completed"
    },
    "tags": []
   },
   "outputs": [],
   "source": []
  }
 ],
 "metadata": {
  "kernelspec": {
   "display_name": "Python 3 (ipykernel)",
   "language": "python",
   "name": "python3"
  },
  "language_info": {
   "codemirror_mode": {
    "name": "ipython",
    "version": 3
   },
   "file_extension": ".py",
   "mimetype": "text/x-python",
   "name": "python",
   "nbconvert_exporter": "python",
   "pygments_lexer": "ipython3",
   "version": "3.9.13"
  },
  "papermill": {
   "default_parameters": {},
   "duration": 623.873444,
   "end_time": "2023-09-01T19:10:17.940870",
   "environment_variables": {},
   "exception": null,
   "input_path": "__notebook__.ipynb",
   "output_path": "__notebook__.ipynb",
   "parameters": {},
   "start_time": "2023-09-01T18:59:54.067426",
   "version": "2.4.0"
  }
 },
 "nbformat": 4,
 "nbformat_minor": 5
}
